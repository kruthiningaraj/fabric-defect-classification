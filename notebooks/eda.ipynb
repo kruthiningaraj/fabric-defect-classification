{
 "cells": [
  {
   "cell_type": "markdown",
   "metadata": {},
   "source": ["# Fabric Defect Dataset EDA\nVisualize dataset distribution and sample images."]
  },
  {
   "cell_type": "code",
   "execution_count": 1,
   "metadata": {},
   "outputs": [],
   "source": [
    "import os\n",
    "import matplotlib.pyplot as plt\n",
    "import cv2\n",
    "dataset_dir = '../data/Fabric Defects Dataset/train'\n",
    "classes = os.listdir(dataset_dir)\n",
    "print('Classes:', classes)\n",
    "for cls in classes:\n",
    "    path = os.path.join(dataset_dir, cls)\n",
    "    sample = cv2.imread(os.path.join(path, os.listdir(path)[0]))\n",
    "    plt.imshow(cv2.cvtColor(sample, cv2.COLOR_BGR2RGB))\n",
    "    plt.title(cls)\n",
    "    plt.show()"
   ]
  }
 ],
 "metadata": {
  "kernelspec": {
   "display_name": "Python 3",
   "language": "python",
   "name": "python3"
  }
 },
 "nbformat": 4,
 "nbformat_minor": 5
}